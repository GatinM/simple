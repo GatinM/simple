{
 "cells": [
  {
   "cell_type": "code",
   "execution_count": null,
   "metadata": {},
   "outputs": [],
   "source": [
    "#@title Simple{ vertical-output: true }\n",
    "url = \"\" #@param {type:\"string\"}\n",
    "\n",
    "remove_everything = True #@param { type: 'boolean' }\n",
    "start_downloading_immediately = True #@param { type: 'boolean' }\n",
    "\n",
    "if remove_everything:\n",
    "    ! rm -rf *\n",
    "\n",
    "\n",
    "try:\n",
    "    import requests\n",
    "except:\n",
    "    ! pip install requests\n",
    "\n",
    "from datetime import datetime\n",
    "import google\n",
    "import requests\n",
    "\n",
    "file = requests.get(url).response\n",
    "\n",
    "file_name = datetime.now().strftime(\"%A-%B-%d-%H-%M-%S\")\n",
    "\n",
    "with open(file_name, 'wb') as f:\n",
    "    f.write(file)\n",
    "\n",
    "! zip archive.zip *\n",
    "\n",
    "if start_downloading_immediately:\n",
    "    google.colab.files.download('archive.zip')"
   ]
  }
 ],
 "metadata": {
  "interpreter": {
   "hash": "afead4701c9462f9c994104b8375260e32f700858ef77e2806c02967a384e6d2"
  },
  "kernelspec": {
   "display_name": "Python 3.8.7 ('.qenv': venv)",
   "language": "python",
   "name": "python3"
  },
  "language_info": {
   "name": "python",
   "version": "3.8.7"
  },
  "orig_nbformat": 4
 },
 "nbformat": 4,
 "nbformat_minor": 2
}
