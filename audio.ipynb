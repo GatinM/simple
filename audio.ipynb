{
 "cells": [
  {
   "cell_type": "code",
   "execution_count": null,
   "source": [
    "#@title Audio{ vertical-output: true }\r\n",
    "url = \"\" #@param {type:\"string\"}\r\n",
    "# max_filesize_mb = 1000 #@param { type: 'slider', min: 1, max: 1000}\r\n",
    "playlist_start = 1 #@param { type: 'number' }\r\n",
    "playlist_end = 3 #@param { type: 'number' }\r\n",
    "remove_everything = True #@param { type: 'boolean' }\r\n",
    "start_downloading_immediately = True #@param { type: 'boolean' }\r\n",
    "\r\n",
    "\r\n",
    "# Install + Import + Config\r\n",
    "try: import youtube_dl\r\n",
    "except:\r\n",
    "    ! pip install youtube-dl\r\n",
    "\r\n",
    "if remove_everything:\r\n",
    "    ! rm -rf *\r\n",
    "\r\n",
    "import youtube_dl\r\n",
    "import google\r\n",
    "\r\n",
    "! youtube-dl {url} --playlist-start {playlist_start} --playlist-end {playlist_end} -f \"bestaudio/best\" -ciw  --extract-audio --audio-format mp3 --audio-quality 0 -o '%(title)s.%(ext)s'\r\n",
    "! zip archive.zip *\r\n",
    "\r\n",
    "if start_downloading_immediately:\r\n",
    "    google.colab.files.download('archive.zip')"
   ],
   "outputs": [],
   "metadata": {}
  }
 ],
 "metadata": {
  "orig_nbformat": 4,
  "language_info": {
   "name": "python"
  }
 },
 "nbformat": 4,
 "nbformat_minor": 2
}