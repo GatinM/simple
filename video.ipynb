{
  "nbformat": 4,
  "nbformat_minor": 2,
  "metadata": {
    "colab": {
      "name": "youtube-dl toolbox.ipynb",
      "provenance": []
    },
    "kernelspec": {
      "name": "python3",
      "display_name": "Python 3"
    }
  },
  "cells": [
    {
      "cell_type": "code",
      "execution_count": null,
      "source": [
        "#@title Simple{ vertical-output: true }\r\n",
        "url = \"\" #@param {type:\"string\"}\r\n",
        "# max_filesize_mb = 1000 #@param { type: 'slider', min: 1, max: 1000}\r\n",
        "playlist_start = 1 #@param { type: 'number' }\r\n",
        "playlist_end = 300 #@param { type: 'number' }\r\n",
        "remove_everything = True #@param { type: 'boolean' }\r\n",
        "start_downloading_immediately = True #@param { type: 'boolean' }\r\n",
        "\r\n",
        "\r\n",
        "# Install + Import + Config\r\n",
        "try: import youtube_dl\r\n",
        "except:\r\n",
        "    ! pip install youtube-dl\r\n",
        "\r\n",
        "if remove_everything:\r\n",
        "    ! rm -rf *\r\n",
        "\r\n",
        "import youtube_dl\r\n",
        "import google\r\n",
        "\r\n",
        "\r\n",
        "# Download\r\n",
        "# with youtube_dl.YoutubeDL({\r\n",
        "#     'outtmpl': '%(title)s.%(ext)s',\r\n",
        "#     'format': '18',\r\n",
        "#     'playlist-start': playlist_start,\r\n",
        "#     'playlist-end': playlist_end,\r\n",
        "#     'max-filesize': f'{max_filesize_mb}M'\r\n",
        "# }).download(urls.split());\r\n",
        "\r\n",
        "! youtube-dl {url} --playlist-start {playlist_start} --playlist-end {playlist_end} -f best -o '%(playlist_index)s-%(title)s.%(ext)s'\r\n",
        "# ! youtube-dl {url} --format 22 -o \"%(playlist_index)s-%(title)s.%(ext)s\"\r\n",
        "! zip archive.zip *\r\n",
        "\r\n",
        "if start_downloading_immediately:\r\n",
        "    google.colab.files.download('archive.zip')"
      ],
      "outputs": [],
      "metadata": {
        "id": "qOKysSYyVPWI",
        "colab": {
          "base_uri": "https://localhost:8080/"
        },
        "cellView": "form",
        "outputId": "d7838597-fce6-4e55-af0e-5f20671dbb76"
      }
    }
  ]
}